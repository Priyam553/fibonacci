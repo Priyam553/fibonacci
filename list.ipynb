{
 "cells": [
  {
   "cell_type": "code",
   "execution_count": 2,
   "id": "d8660dcb-cafe-4102-ac22-f14986a157cc",
   "metadata": {},
   "outputs": [
    {
     "name": "stdout",
     "output_type": "stream",
     "text": [
      "12\n",
      "5\n",
      "64\n",
      "12\n",
      "14\n",
      "3\n"
     ]
    }
   ],
   "source": [
    "l1=[12,-7,5,64,-14]\n",
    "for item in l1:\n",
    "    if(item>=0):\n",
    "        print(item)\n",
    "l2=[12,14,-95,3]\n",
    "for num in l2:\n",
    "    if(num>=0):\n",
    "        print(num)"
   ]
  }
 ],
 "metadata": {
  "kernelspec": {
   "display_name": "Python [conda env:anaconda] *",
   "language": "python",
   "name": "conda-env-anaconda-py"
  },
  "language_info": {
   "codemirror_mode": {
    "name": "ipython",
    "version": 3
   },
   "file_extension": ".py",
   "mimetype": "text/x-python",
   "name": "python",
   "nbconvert_exporter": "python",
   "pygments_lexer": "ipython3",
   "version": "3.13.5"
  }
 },
 "nbformat": 4,
 "nbformat_minor": 5
}
