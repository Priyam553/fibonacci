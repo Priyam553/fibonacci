{
 "cells": [
  {
   "cell_type": "code",
   "execution_count": 2,
   "id": "ae12a03c-fd88-4613-8f6d-d76bc0f06d3d",
   "metadata": {},
   "outputs": [
    {
     "name": "stdout",
     "output_type": "stream",
     "text": [
      "0\n",
      "1\n",
      "1\n",
      "2\n",
      "3\n",
      "5\n",
      "8\n",
      "13\n",
      "21\n",
      "34\n",
      "55\n",
      "89\n",
      "144\n",
      "233\n",
      "377\n",
      "610\n",
      "987\n",
      "1597\n",
      "2584\n",
      "4181\n"
     ]
    }
   ],
   "source": [
    "n=20\n",
    "a=0\n",
    "b=1\n",
    "i=0\n",
    "while(i<n):\n",
    "    if(i<=1):\n",
    "        c=i\n",
    "    else:\n",
    "        c=a+b\n",
    "        a=b\n",
    "        b=c\n",
    "    print(c)\n",
    "    i=i+1\n",
    "    \n",
    "       \n",
    "\n",
    "    \n",
    "    \n",
    "    \n"
   ]
  }
 ],
 "metadata": {
  "kernelspec": {
   "display_name": "Python [conda env:anaconda] *",
   "language": "python",
   "name": "conda-env-anaconda-py"
  },
  "language_info": {
   "codemirror_mode": {
    "name": "ipython",
    "version": 3
   },
   "file_extension": ".py",
   "mimetype": "text/x-python",
   "name": "python",
   "nbconvert_exporter": "python",
   "pygments_lexer": "ipython3",
   "version": "3.13.5"
  }
 },
 "nbformat": 4,
 "nbformat_minor": 5
}
